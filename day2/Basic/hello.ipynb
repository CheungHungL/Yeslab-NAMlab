{
 "cells": [
  {
   "cell_type": "markdown",
   "metadata": {},
   "source": [
    "# 开始写代码"
   ]
  },
  {
   "cell_type": "code",
   "execution_count": null,
   "metadata": {},
   "outputs": [],
   "source": [
    "print('Hello World!')"
   ]
  },
  {
   "cell_type": "markdown",
   "metadata": {},
   "source": [
    "# 7种数据结构\n",
    "* 4种单体数据结构"
   ]
  },
  {
   "cell_type": "code",
   "execution_count": null,
   "metadata": {},
   "outputs": [],
   "source": [
    "one_int = 123 #整数 int\n",
    "one_float = 1.23 #浮点数 float\n",
    "one_str = \"你好！北京！\" #字符串\n",
    "one_bool = True #布尔值"
   ]
  },
  {
   "cell_type": "markdown",
   "metadata": {},
   "source": [
    "   * 字符串特性"
   ]
  },
  {
   "cell_type": "code",
   "execution_count": 1,
   "metadata": {},
   "outputs": [
    {
     "name": "stdout",
     "output_type": "stream",
     "text": [
      "2023_12_9 01:00:03 ERROR Device\n",
      "test\n",
      "True\n",
      "hello cisco!\n"
     ]
    }
   ],
   "source": [
    "log = \"2023_12_9 01:00:03 %ERROR Device HUAWEIS5720 Network connection down!\"\n",
    "\n",
    "# 字符串的索引\n",
    "log_time = log[:18]\n",
    "log_level = log[20:25]\n",
    "log_device = log[33:45]\n",
    "#print(log_time, log_level, log_device)\n",
    "\n",
    "# 字符串的split和join方法\n",
    "log_list = log.split()\n",
    "log_time = ' '.join(log_list[:2])\n",
    "log_level = log_list[2][1:]\n",
    "log_device = log_list[3]\n",
    "print(log_time, log_level, log_device)\n",
    "\n",
    "# 字符串的strip方法\n",
    "test_str = '    test    '\n",
    "print(test_str.strip())\n",
    "\n",
    "# 字符串的 in 判断\n",
    "print('HUAWEIS5720' in log)\n",
    "\n",
    "# 字符串拼接\n",
    "a_str = \"hello\"\n",
    "b_str = \" cisco!\"\n",
    "c_str = a_str + b_str\n",
    "print(c_str)"
   ]
  },
  {
   "cell_type": "markdown",
   "metadata": {},
   "source": [
    "* 3种常见的数组型数据结构\n",
    "  * 列表\n",
    "  * 元组\n",
    "  * 字典"
   ]
  },
  {
   "cell_type": "code",
   "execution_count": null,
   "metadata": {},
   "outputs": [],
   "source": [
    "one_list = [one_int, one_float, \"我来了广州\", False] #要放的东西只有一个维度 | 多个成套的东西弄成一个组 | 多维不带键值的数据\n",
    "one_tuple = (one_int, one_float, \"我来了广州\", False)\n",
    "one_dict = {'ip': '1.1.1.1',\n",
    "            'device_name': 'CiscoCSR1000V',\n",
    "            'interfaces': [{'name': 'GE1/0/1', 'status': 'L2'},\n",
    "                           {'name': 'GE1/0/2', 'status': 'L3'}]\n",
    "            } #多维带键值数据"
   ]
  },
  {
   "cell_type": "markdown",
   "metadata": {},
   "source": [
    "# 逻辑控制\n",
    "* if | elif | else 条件控制"
   ]
  },
  {
   "cell_type": "code",
   "execution_count": null,
   "metadata": {},
   "outputs": [],
   "source": [
    "import random\n",
    "cpu_v = random.randint(0,100)\n",
    "\n",
    "if cpu_v < 60:\n",
    "    # CPU处于正常值\n",
    "    print('一切正常')\n",
    "elif cpu_v >= 60 and cpu_v < 80:\n",
    "    # CPU负载有点高，需要检查进程\n",
    "    print('有点危险')\n",
    "else:\n",
    "    # CPU异常负载，需要赶紧排查故障\n",
    "    print('赶紧救火')\n",
    "print(f'当前CPU使用率为：{cpu_v}')"
   ]
  },
  {
   "cell_type": "markdown",
   "metadata": {},
   "source": [
    "* while 循环\n",
    "  - break 跳出当前这一层的循环，运行循环之外的代码\n",
    "  - continue 跳出当前这一次循环，下一次循环立即开始"
   ]
  },
  {
   "cell_type": "code",
   "execution_count": 2,
   "metadata": {},
   "outputs": [
    {
     "name": "stdout",
     "output_type": "stream",
     "text": [
      "当前CPU使用率为：6\n",
      "当前CPU使用率为：26\n",
      "当前CPU使用率为：68\n"
     ]
    }
   ],
   "source": [
    "import random\n",
    "cpu_v = 0\n",
    "\n",
    "while True:\n",
    "    cpu_v = random.randint(0,100)\n",
    "    print(f'当前CPU使用率为：{cpu_v}')\n",
    "    if cpu_v > 60:\n",
    "        break"
   ]
  },
  {
   "cell_type": "markdown",
   "metadata": {},
   "source": [
    "* For 遍历\n",
    "  - 遍历内容\n",
    "  - 遍历索引"
   ]
  },
  {
   "cell_type": "code",
   "execution_count": 41,
   "metadata": {},
   "outputs": [
    {
     "name": "stdout",
     "output_type": "stream",
     "text": [
      "GE1/0/1\n",
      "GE1/0/2\n",
      "GE1/0/3\n",
      "GE1/0/4\n",
      "GE1/0/5\n",
      "GE1/0/6\n",
      "0: GE1/0/1\n",
      "1: GE1/0/2\n",
      "2: GE1/0/3\n",
      "3: GE1/0/4\n",
      "4: GE1/0/5\n",
      "5: GE1/0/6\n",
      "接口GE1/0/1的状态是：UP\n",
      "接口GE1/0/2的状态是：UP\n",
      "接口GE1/0/3的状态是：UP\n",
      "接口GE1/0/4的状态是：DOWN\n",
      "接口GE1/0/5的状态是：DOWN\n",
      "接口GE1/0/6的状态是：UP\n"
     ]
    }
   ],
   "source": [
    "interface_list = ['GE1/0/1', 'GE1/0/2', 'GE1/0/3', 'GE1/0/4', 'GE1/0/5', 'GE1/0/6']\n",
    "status_list = [True, True, True, False, False, True]\n",
    "for interface in interface_list:\n",
    "    print(interface)\n",
    "\n",
    "for number in range(len(interface_list)):\n",
    "    print(f'{number}: {interface_list[number]}')\n",
    "\n",
    "for i in range(len(interface_list)):\n",
    "    if status_list[i]:\n",
    "        value = 'UP'\n",
    "    else:\n",
    "        value = 'DOWN'\n",
    "    print(f'接口{interface_list[i]}的状态是：{value}')"
   ]
  },
  {
   "cell_type": "markdown",
   "metadata": {},
   "source": [
    "## 函数"
   ]
  },
  {
   "cell_type": "markdown",
   "metadata": {},
   "source": []
  }
 ],
 "metadata": {
  "kernelspec": {
   "display_name": "Python 3",
   "language": "python",
   "name": "python3"
  },
  "language_info": {
   "codemirror_mode": {
    "name": "ipython",
    "version": 3
   },
   "file_extension": ".py",
   "mimetype": "text/x-python",
   "name": "python",
   "nbconvert_exporter": "python",
   "pygments_lexer": "ipython3",
   "version": "3.12.0"
  }
 },
 "nbformat": 4,
 "nbformat_minor": 2
}
