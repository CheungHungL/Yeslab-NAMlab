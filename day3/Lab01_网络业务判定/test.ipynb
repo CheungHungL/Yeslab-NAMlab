{
 "cells": [
  {
   "cell_type": "markdown",
   "metadata": {},
   "source": [
    "## 任务：完成JSON数据索引\n",
    "\n",
    "* 新建一个总列表\n",
    "* 取出所有ticket的创建时间、ID、priority、site、status\n",
    "* 每一张单形成一个子列表 [id, create_time, priority, site, status]\n",
    "* 在循环中以 总列表.append(子列表) 的形式形成复合列表"
   ]
  },
  {
   "cell_type": "code",
   "execution_count": 5,
   "metadata": {},
   "outputs": [],
   "source": [
    "import json\n",
    "\n",
    "with open('network_tech.json') as f:\n",
    "    json_data = json.load(f)"
   ]
  },
  {
   "cell_type": "code",
   "execution_count": 13,
   "metadata": {},
   "outputs": [
    {
     "data": {
      "text/plain": [
       "{'created_time': {'display_value': 'Dec 15, 2023 10:04 AM',\n",
       "  'value': '1702605890601'},\n",
       " 'subject': 'RFC20231215 - add VL226 for VM host',\n",
       " 'technician': {'email_id': 'sd-snocsupport@f1.hk',\n",
       "  'phone': None,\n",
       "  'name': 'SNOC Support',\n",
       "  'mobile': None,\n",
       "  'profile_pic': {'content-url': '/images/default-profile-pic2.svg',\n",
       "   'name': 'default-profile-pic2.svg'},\n",
       "  'is_vipuser': False,\n",
       "  'id': '303',\n",
       "  'department': {'site': None, 'name': 'IT Services', 'id': 5}},\n",
       " 'priority': {'color': '#ffc000', 'name': 'S2 - High', 'id': '302'},\n",
       " 'created_by': {'email_id': None,\n",
       "  'phone': None,\n",
       "  'name': 'System',\n",
       "  'mobile': None,\n",
       "  'profile_pic': {'content-url': '/images/default-profile-pic2.svg',\n",
       "   'name': 'default-profile-pic2.svg'},\n",
       "  'is_vipuser': False,\n",
       "  'id': '1',\n",
       "  'department': None},\n",
       " 'site': {'name': 'Anglo-Eastern Ship Management Ltd', 'id': '632'},\n",
       " 'is_service_request': False,\n",
       " 'id': '126495',\n",
       " 'status': {'color': '#0066ff', 'name': 'Open', 'id': '2'}}"
      ]
     },
     "execution_count": 13,
     "metadata": {},
     "output_type": "execute_result"
    }
   ],
   "source": [
    "json_data['datas'][0]"
   ]
  },
  {
   "cell_type": "code",
   "execution_count": 9,
   "metadata": {},
   "outputs": [],
   "source": [
    "create_time = json_data['datas'][0]['created_time']['display_value']\n",
    "priority = json_data['datas'][0]['priority']['name']"
   ]
  },
  {
   "cell_type": "code",
   "execution_count": 12,
   "metadata": {},
   "outputs": [
    {
     "data": {
      "text/plain": [
       "'Dec 15, 2023 10:04 AM'"
      ]
     },
     "execution_count": 12,
     "metadata": {},
     "output_type": "execute_result"
    }
   ],
   "source": [
    "create_time"
   ]
  },
  {
   "cell_type": "code",
   "execution_count": 11,
   "metadata": {},
   "outputs": [
    {
     "data": {
      "text/plain": [
       "'S2 - High'"
      ]
     },
     "execution_count": 11,
     "metadata": {},
     "output_type": "execute_result"
    }
   ],
   "source": [
    "priority"
   ]
  },
  {
   "cell_type": "code",
   "execution_count": null,
   "metadata": {},
   "outputs": [],
   "source": []
  }
 ],
 "metadata": {
  "kernelspec": {
   "display_name": "Python 3",
   "language": "python",
   "name": "python3"
  },
  "language_info": {
   "codemirror_mode": {
    "name": "ipython",
    "version": 3
   },
   "file_extension": ".py",
   "mimetype": "text/x-python",
   "name": "python",
   "nbconvert_exporter": "python",
   "pygments_lexer": "ipython3",
   "version": "3.12.0"
  }
 },
 "nbformat": 4,
 "nbformat_minor": 2
}
